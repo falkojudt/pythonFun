{
 "cells": [
  {
   "cell_type": "code",
   "execution_count": 1,
   "metadata": {},
   "outputs": [],
   "source": [
    "import pandas as pd\n",
    "import matplotlib.pyplot as plt\n",
    "import numpy as np\n",
    "#print(plt.style.available)\n",
    "plt.style.use('seaborn-dark')"
   ]
  },
  {
   "cell_type": "markdown",
   "metadata": {},
   "source": [
    "Begin by importing an unmodified .csv file from ibtracs. I've left out all dates before 1900 and a bunch of unnecessary columns. I've also given them my own names instead of using the header names."
   ]
  },
  {
   "cell_type": "code",
   "execution_count": 2,
   "metadata": {},
   "outputs": [],
   "source": [
    "storms = pd.read_csv('ibtracs_2018.csv', delimiter=',', skiprows=10786, header=None, usecols=[0,1,3,5,6,7,8,9,10,11], names=['id','year','basin','name','dt','type','lat','lon','wind','pres'], parse_dates={'date':[4]})"
   ]
  },
  {
   "cell_type": "markdown",
   "metadata": {},
   "source": [
    "Let's look at a section and see what we're dealing with."
   ]
  },
  {
   "cell_type": "code",
   "execution_count": 3,
   "metadata": {},
   "outputs": [
    {
     "data": {
      "text/html": [
       "<div>\n",
       "<style scoped>\n",
       "    .dataframe tbody tr th:only-of-type {\n",
       "        vertical-align: middle;\n",
       "    }\n",
       "\n",
       "    .dataframe tbody tr th {\n",
       "        vertical-align: top;\n",
       "    }\n",
       "\n",
       "    .dataframe thead th {\n",
       "        text-align: right;\n",
       "    }\n",
       "</style>\n",
       "<table border=\"1\" class=\"dataframe\">\n",
       "  <thead>\n",
       "    <tr style=\"text-align: right;\">\n",
       "      <th></th>\n",
       "      <th>date</th>\n",
       "      <th>id</th>\n",
       "      <th>year</th>\n",
       "      <th>basin</th>\n",
       "      <th>name</th>\n",
       "      <th>type</th>\n",
       "      <th>lat</th>\n",
       "      <th>lon</th>\n",
       "      <th>wind</th>\n",
       "      <th>pres</th>\n",
       "    </tr>\n",
       "  </thead>\n",
       "  <tbody>\n",
       "    <tr>\n",
       "      <th>30000</th>\n",
       "      <td>1959-07-17 00:00:00</td>\n",
       "      <td>1959190N08145</td>\n",
       "      <td>1959</td>\n",
       "      <td>WP</td>\n",
       "      <td>BILLIE</td>\n",
       "      <td>NR</td>\n",
       "      <td>32.4</td>\n",
       "      <td>121.8</td>\n",
       "      <td>0.0</td>\n",
       "      <td>990.0</td>\n",
       "    </tr>\n",
       "    <tr>\n",
       "      <th>30001</th>\n",
       "      <td>1959-07-17 06:00:00</td>\n",
       "      <td>1959190N08145</td>\n",
       "      <td>1959</td>\n",
       "      <td>WP</td>\n",
       "      <td>BILLIE</td>\n",
       "      <td>NR</td>\n",
       "      <td>35.4</td>\n",
       "      <td>123.6</td>\n",
       "      <td>0.0</td>\n",
       "      <td>990.0</td>\n",
       "    </tr>\n",
       "    <tr>\n",
       "      <th>30002</th>\n",
       "      <td>1959-07-17 12:00:00</td>\n",
       "      <td>1959190N08145</td>\n",
       "      <td>1959</td>\n",
       "      <td>WP</td>\n",
       "      <td>BILLIE</td>\n",
       "      <td>NR</td>\n",
       "      <td>37.3</td>\n",
       "      <td>125.9</td>\n",
       "      <td>0.0</td>\n",
       "      <td>990.0</td>\n",
       "    </tr>\n",
       "    <tr>\n",
       "      <th>30003</th>\n",
       "      <td>1959-07-17 18:00:00</td>\n",
       "      <td>1959190N08145</td>\n",
       "      <td>1959</td>\n",
       "      <td>WP</td>\n",
       "      <td>BILLIE</td>\n",
       "      <td>ET</td>\n",
       "      <td>40.5</td>\n",
       "      <td>128.5</td>\n",
       "      <td>0.0</td>\n",
       "      <td>992.0</td>\n",
       "    </tr>\n",
       "    <tr>\n",
       "      <th>30004</th>\n",
       "      <td>1959-07-18 00:00:00</td>\n",
       "      <td>1959190N08145</td>\n",
       "      <td>1959</td>\n",
       "      <td>WP</td>\n",
       "      <td>BILLIE</td>\n",
       "      <td>ET</td>\n",
       "      <td>40.8</td>\n",
       "      <td>131.3</td>\n",
       "      <td>0.0</td>\n",
       "      <td>994.0</td>\n",
       "    </tr>\n",
       "    <tr>\n",
       "      <th>30005</th>\n",
       "      <td>1959-07-18 06:00:00</td>\n",
       "      <td>1959190N08145</td>\n",
       "      <td>1959</td>\n",
       "      <td>WP</td>\n",
       "      <td>BILLIE</td>\n",
       "      <td>ET</td>\n",
       "      <td>41.0</td>\n",
       "      <td>132.8</td>\n",
       "      <td>0.0</td>\n",
       "      <td>996.0</td>\n",
       "    </tr>\n",
       "    <tr>\n",
       "      <th>30006</th>\n",
       "      <td>1959-07-18 12:00:00</td>\n",
       "      <td>1959190N08145</td>\n",
       "      <td>1959</td>\n",
       "      <td>WP</td>\n",
       "      <td>BILLIE</td>\n",
       "      <td>ET</td>\n",
       "      <td>41.2</td>\n",
       "      <td>134.0</td>\n",
       "      <td>0.0</td>\n",
       "      <td>998.0</td>\n",
       "    </tr>\n",
       "    <tr>\n",
       "      <th>30007</th>\n",
       "      <td>1959-07-18 18:00:00</td>\n",
       "      <td>1959190N08145</td>\n",
       "      <td>1959</td>\n",
       "      <td>WP</td>\n",
       "      <td>BILLIE</td>\n",
       "      <td>ET</td>\n",
       "      <td>41.3</td>\n",
       "      <td>135.3</td>\n",
       "      <td>0.0</td>\n",
       "      <td>1000.0</td>\n",
       "    </tr>\n",
       "    <tr>\n",
       "      <th>30008</th>\n",
       "      <td>1959-07-19 00:00:00</td>\n",
       "      <td>1959190N08145</td>\n",
       "      <td>1959</td>\n",
       "      <td>WP</td>\n",
       "      <td>BILLIE</td>\n",
       "      <td>ET</td>\n",
       "      <td>41.5</td>\n",
       "      <td>136.6</td>\n",
       "      <td>0.0</td>\n",
       "      <td>1004.0</td>\n",
       "    </tr>\n",
       "    <tr>\n",
       "      <th>30009</th>\n",
       "      <td>1959-07-19 06:00:00</td>\n",
       "      <td>1959190N08145</td>\n",
       "      <td>1959</td>\n",
       "      <td>WP</td>\n",
       "      <td>BILLIE</td>\n",
       "      <td>ET</td>\n",
       "      <td>42.1</td>\n",
       "      <td>138.0</td>\n",
       "      <td>0.0</td>\n",
       "      <td>1008.0</td>\n",
       "    </tr>\n",
       "  </tbody>\n",
       "</table>\n",
       "</div>"
      ],
      "text/plain": [
       "                     date             id  year basin    name type   lat  \\\n",
       "30000 1959-07-17 00:00:00  1959190N08145  1959    WP  BILLIE   NR  32.4   \n",
       "30001 1959-07-17 06:00:00  1959190N08145  1959    WP  BILLIE   NR  35.4   \n",
       "30002 1959-07-17 12:00:00  1959190N08145  1959    WP  BILLIE   NR  37.3   \n",
       "30003 1959-07-17 18:00:00  1959190N08145  1959    WP  BILLIE   ET  40.5   \n",
       "30004 1959-07-18 00:00:00  1959190N08145  1959    WP  BILLIE   ET  40.8   \n",
       "30005 1959-07-18 06:00:00  1959190N08145  1959    WP  BILLIE   ET  41.0   \n",
       "30006 1959-07-18 12:00:00  1959190N08145  1959    WP  BILLIE   ET  41.2   \n",
       "30007 1959-07-18 18:00:00  1959190N08145  1959    WP  BILLIE   ET  41.3   \n",
       "30008 1959-07-19 00:00:00  1959190N08145  1959    WP  BILLIE   ET  41.5   \n",
       "30009 1959-07-19 06:00:00  1959190N08145  1959    WP  BILLIE   ET  42.1   \n",
       "\n",
       "         lon  wind    pres  \n",
       "30000  121.8   0.0   990.0  \n",
       "30001  123.6   0.0   990.0  \n",
       "30002  125.9   0.0   990.0  \n",
       "30003  128.5   0.0   992.0  \n",
       "30004  131.3   0.0   994.0  \n",
       "30005  132.8   0.0   996.0  \n",
       "30006  134.0   0.0   998.0  \n",
       "30007  135.3   0.0  1000.0  \n",
       "30008  136.6   0.0  1004.0  \n",
       "30009  138.0   0.0  1008.0  "
      ]
     },
     "execution_count": 3,
     "metadata": {},
     "output_type": "execute_result"
    }
   ],
   "source": [
    "storms[30000:30010]"
   ]
  },
  {
   "cell_type": "markdown",
   "metadata": {},
   "source": [
    "Let's get rid of non 6-hourly times and non-tropical storms."
   ]
  },
  {
   "cell_type": "code",
   "execution_count": 4,
   "metadata": {},
   "outputs": [],
   "source": [
    "storms = storms.where(np.mod(storms.date.dt.hour,6) == 0).dropna()"
   ]
  },
  {
   "cell_type": "code",
   "execution_count": 5,
   "metadata": {},
   "outputs": [],
   "source": [
    "storms = storms.where(storms.type.str.contains('TS')).dropna()"
   ]
  },
  {
   "cell_type": "markdown",
   "metadata": {},
   "source": [
    "# Start the analysis."
   ]
  },
  {
   "cell_type": "markdown",
   "metadata": {},
   "source": [
    "### <b><i>How many storms are in the database?</i></b>"
   ]
  },
  {
   "cell_type": "code",
   "execution_count": 6,
   "metadata": {},
   "outputs": [
    {
     "data": {
      "text/plain": [
       "4735"
      ]
     },
     "execution_count": 6,
     "metadata": {},
     "output_type": "execute_result"
    }
   ],
   "source": [
    "storms.id.nunique()"
   ]
  },
  {
   "cell_type": "markdown",
   "metadata": {},
   "source": [
    "### <b><i>How many storms are in each basin within the database?</i></b>"
   ]
  },
  {
   "cell_type": "code",
   "execution_count": 7,
   "metadata": {},
   "outputs": [
    {
     "data": {
      "text/plain": [
       "basin\n",
       " EP    1051\n",
       " NA    1405\n",
       " SA       1\n",
       " SI     595\n",
       " WP    1722\n",
       "Name: id, dtype: int64"
      ]
     },
     "execution_count": 7,
     "metadata": {},
     "output_type": "execute_result"
    }
   ],
   "source": [
    "storms.id.groupby(storms.basin).nunique()"
   ]
  },
  {
   "cell_type": "markdown",
   "metadata": {},
   "source": [
    "#### Something is weird with the \"SA\" basin. Let's just get rid of it."
   ]
  },
  {
   "cell_type": "code",
   "execution_count": 8,
   "metadata": {},
   "outputs": [],
   "source": [
    "storms = storms.where(~storms.basin.str.contains('SA'))"
   ]
  },
  {
   "cell_type": "code",
   "execution_count": 9,
   "metadata": {},
   "outputs": [],
   "source": [
    "storms.dropna(inplace=True)"
   ]
  },
  {
   "cell_type": "markdown",
   "metadata": {},
   "source": [
    "Let's make sure it worked..."
   ]
  },
  {
   "cell_type": "code",
   "execution_count": 10,
   "metadata": {},
   "outputs": [
    {
     "data": {
      "text/plain": [
       "basin\n",
       " EP    1051\n",
       " NA    1405\n",
       " SI     595\n",
       " WP    1722\n",
       "Name: id, dtype: int64"
      ]
     },
     "execution_count": 10,
     "metadata": {},
     "output_type": "execute_result"
    }
   ],
   "source": [
    "storms.id.groupby(storms.basin).nunique()"
   ]
  },
  {
   "cell_type": "markdown",
   "metadata": {},
   "source": [
    "### <b><i>How many storms per month per basin?</i></b>"
   ]
  },
  {
   "cell_type": "code",
   "execution_count": 11,
   "metadata": {},
   "outputs": [
    {
     "data": {
      "text/plain": [
       "basin  date\n",
       " EP    1         2\n",
       "       2         1\n",
       "       3         1\n",
       "       4         1\n",
       "       5        38\n",
       "       6       138\n",
       "       7       247\n",
       "       8       296\n",
       "       9       285\n",
       "       10      170\n",
       "       11       37\n",
       "       12        5\n",
       " NA    1         5\n",
       "       2         1\n",
       "       3         1\n",
       "       4         4\n",
       "       5        26\n",
       "       6       101\n",
       "       7       149\n",
       "       8       367\n",
       "       9       574\n",
       "       10      312\n",
       "       11       95\n",
       "       12       17\n",
       " SI    1       176\n",
       "       2       179\n",
       "       3       113\n",
       "       4        56\n",
       "       5        14\n",
       "       6         5\n",
       "       7         2\n",
       "       8         4\n",
       "       9         8\n",
       "       10       21\n",
       "       11       44\n",
       "       12      103\n",
       " WP    1        38\n",
       "       2        18\n",
       "       3        33\n",
       "       4        53\n",
       "       5        84\n",
       "       6       131\n",
       "       7       288\n",
       "       8       430\n",
       "       9       398\n",
       "       10      299\n",
       "       11      182\n",
       "       12       92\n",
       "Name: id, dtype: int64"
      ]
     },
     "execution_count": 11,
     "metadata": {},
     "output_type": "execute_result"
    }
   ],
   "source": [
    "storms.id.groupby([storms.basin, storms.date.dt.month]).nunique()"
   ]
  },
  {
   "cell_type": "markdown",
   "metadata": {},
   "source": [
    "### Let's put that into graph form, first we'll select just the North Atlantic storms. Then we'll do similar things to make plots for different basins."
   ]
  },
  {
   "cell_type": "code",
   "execution_count": 12,
   "metadata": {},
   "outputs": [
    {
     "data": {
      "text/plain": [
       "date\n",
       "1       5\n",
       "2       1\n",
       "3       1\n",
       "4       4\n",
       "5      26\n",
       "6     101\n",
       "7     149\n",
       "8     367\n",
       "9     574\n",
       "10    312\n",
       "11     95\n",
       "12     17\n",
       "Name: id, dtype: int64"
      ]
     },
     "execution_count": 12,
     "metadata": {},
     "output_type": "execute_result"
    }
   ],
   "source": [
    "storms[storms.basin.str.contains('NA')].id.groupby(storms.date.dt.month).nunique()"
   ]
  },
  {
   "cell_type": "code",
   "execution_count": 13,
   "metadata": {},
   "outputs": [
    {
     "data": {
      "text/plain": [
       "<matplotlib.axes._subplots.AxesSubplot at 0x7f7afc6e71d0>"
      ]
     },
     "execution_count": 13,
     "metadata": {},
     "output_type": "execute_result"
    },
    {
     "data": {
      "image/png": "[encoded data removed]",
      "text/plain": [
       "<Figure size 432x288 with 1 Axes>"
      ]
     },
     "metadata": {},
     "output_type": "display_data"
    }
   ],
   "source": [
    "storms[storms.basin.str.contains('NA')].id.groupby(storms.date.dt.month).nunique().plot()"
   ]
  },
  {
   "cell_type": "code",
   "execution_count": 14,
   "metadata": {},
   "outputs": [
    {
     "data": {
      "text/plain": [
       "<matplotlib.axes._subplots.AxesSubplot at 0x7f7afc5eabe0>"
      ]
     },
     "execution_count": 14,
     "metadata": {},
     "output_type": "execute_result"
    },
    {
     "data": {
      "image/png": "[encoded data removed]",
      "text/plain": [
       "<Figure size 432x288 with 1 Axes>"
      ]
     },
     "metadata": {},
     "output_type": "display_data"
    }
   ],
   "source": [
    "storms[storms.basin.str.contains('EP')].id.groupby(storms.date.dt.month).nunique().plot()"
   ]
  },
  {
   "cell_type": "code",
   "execution_count": 15,
   "metadata": {},
   "outputs": [
    {
     "data": {
      "text/plain": [
       "<matplotlib.axes._subplots.AxesSubplot at 0x7f7afe78e9b0>"
      ]
     },
     "execution_count": 15,
     "metadata": {},
     "output_type": "execute_result"
    },
    {
     "data": {
      "image/png": "[encoded data removed]",
      "text/plain": [
       "<Figure size 432x288 with 1 Axes>"
      ]
     },
     "metadata": {},
     "output_type": "display_data"
    }
   ],
   "source": [
    "storms[storms.basin.str.contains('WP')].id.groupby(storms.date.dt.month).nunique().plot()"
   ]
  },
  {
   "cell_type": "markdown",
   "metadata": {},
   "source": [
    "### That was fun. Let's make a new dataframe that just holds North Atlantic storms so that we can make our lives easier going forward."
   ]
  },
  {
   "cell_type": "code",
   "execution_count": 16,
   "metadata": {},
   "outputs": [],
   "source": [
    "stormsNA = storms[storms.basin.str.contains('NA')]"
   ]
  },
  {
   "cell_type": "code",
   "execution_count": 17,
   "metadata": {},
   "outputs": [
    {
     "data": {
      "text/html": [
       "<div>\n",
       "<style scoped>\n",
       "    .dataframe tbody tr th:only-of-type {\n",
       "        vertical-align: middle;\n",
       "    }\n",
       "\n",
       "    .dataframe tbody tr th {\n",
       "        vertical-align: top;\n",
       "    }\n",
       "\n",
       "    .dataframe thead th {\n",
       "        text-align: right;\n",
       "    }\n",
       "</style>\n",
       "<table border=\"1\" class=\"dataframe\">\n",
       "  <thead>\n",
       "    <tr style=\"text-align: right;\">\n",
       "      <th></th>\n",
       "      <th>date</th>\n",
       "      <th>id</th>\n",
       "      <th>year</th>\n",
       "      <th>basin</th>\n",
       "      <th>name</th>\n",
       "      <th>type</th>\n",
       "      <th>lat</th>\n",
       "      <th>lon</th>\n",
       "      <th>wind</th>\n",
       "      <th>pres</th>\n",
       "    </tr>\n",
       "  </thead>\n",
       "  <tbody>\n",
       "    <tr>\n",
       "      <th>12</th>\n",
       "      <td>1900-08-27 00:00:00</td>\n",
       "      <td>1900239N15318</td>\n",
       "      <td>1900.0</td>\n",
       "      <td>NA</td>\n",
       "      <td>UNNAMED</td>\n",
       "      <td>TS</td>\n",
       "      <td>15.0</td>\n",
       "      <td>-42.1</td>\n",
       "      <td>35.0</td>\n",
       "      <td>0.0</td>\n",
       "    </tr>\n",
       "    <tr>\n",
       "      <th>13</th>\n",
       "      <td>1900-08-27 06:00:00</td>\n",
       "      <td>1900239N15318</td>\n",
       "      <td>1900.0</td>\n",
       "      <td>NA</td>\n",
       "      <td>UNNAMED</td>\n",
       "      <td>TS</td>\n",
       "      <td>15.2</td>\n",
       "      <td>-43.4</td>\n",
       "      <td>35.0</td>\n",
       "      <td>0.0</td>\n",
       "    </tr>\n",
       "    <tr>\n",
       "      <th>14</th>\n",
       "      <td>1900-08-27 12:00:00</td>\n",
       "      <td>1900239N15318</td>\n",
       "      <td>1900.0</td>\n",
       "      <td>NA</td>\n",
       "      <td>UNNAMED</td>\n",
       "      <td>TS</td>\n",
       "      <td>15.3</td>\n",
       "      <td>-44.7</td>\n",
       "      <td>35.0</td>\n",
       "      <td>0.0</td>\n",
       "    </tr>\n",
       "    <tr>\n",
       "      <th>15</th>\n",
       "      <td>1900-08-27 18:00:00</td>\n",
       "      <td>1900239N15318</td>\n",
       "      <td>1900.0</td>\n",
       "      <td>NA</td>\n",
       "      <td>UNNAMED</td>\n",
       "      <td>TS</td>\n",
       "      <td>15.4</td>\n",
       "      <td>-45.6</td>\n",
       "      <td>35.0</td>\n",
       "      <td>0.0</td>\n",
       "    </tr>\n",
       "    <tr>\n",
       "      <th>16</th>\n",
       "      <td>1900-08-28 00:00:00</td>\n",
       "      <td>1900239N15318</td>\n",
       "      <td>1900.0</td>\n",
       "      <td>NA</td>\n",
       "      <td>UNNAMED</td>\n",
       "      <td>TS</td>\n",
       "      <td>15.6</td>\n",
       "      <td>-46.6</td>\n",
       "      <td>35.0</td>\n",
       "      <td>0.0</td>\n",
       "    </tr>\n",
       "    <tr>\n",
       "      <th>17</th>\n",
       "      <td>1900-08-28 06:00:00</td>\n",
       "      <td>1900239N15318</td>\n",
       "      <td>1900.0</td>\n",
       "      <td>NA</td>\n",
       "      <td>UNNAMED</td>\n",
       "      <td>TS</td>\n",
       "      <td>15.8</td>\n",
       "      <td>-47.9</td>\n",
       "      <td>35.0</td>\n",
       "      <td>0.0</td>\n",
       "    </tr>\n",
       "    <tr>\n",
       "      <th>18</th>\n",
       "      <td>1900-08-28 12:00:00</td>\n",
       "      <td>1900239N15318</td>\n",
       "      <td>1900.0</td>\n",
       "      <td>NA</td>\n",
       "      <td>UNNAMED</td>\n",
       "      <td>TS</td>\n",
       "      <td>16.0</td>\n",
       "      <td>-49.1</td>\n",
       "      <td>35.0</td>\n",
       "      <td>0.0</td>\n",
       "    </tr>\n",
       "    <tr>\n",
       "      <th>19</th>\n",
       "      <td>1900-08-28 18:00:00</td>\n",
       "      <td>1900239N15318</td>\n",
       "      <td>1900.0</td>\n",
       "      <td>NA</td>\n",
       "      <td>UNNAMED</td>\n",
       "      <td>TS</td>\n",
       "      <td>16.1</td>\n",
       "      <td>-50.3</td>\n",
       "      <td>35.0</td>\n",
       "      <td>0.0</td>\n",
       "    </tr>\n",
       "    <tr>\n",
       "      <th>20</th>\n",
       "      <td>1900-08-29 00:00:00</td>\n",
       "      <td>1900239N15318</td>\n",
       "      <td>1900.0</td>\n",
       "      <td>NA</td>\n",
       "      <td>UNNAMED</td>\n",
       "      <td>TS</td>\n",
       "      <td>16.3</td>\n",
       "      <td>-51.4</td>\n",
       "      <td>35.0</td>\n",
       "      <td>0.0</td>\n",
       "    </tr>\n",
       "    <tr>\n",
       "      <th>21</th>\n",
       "      <td>1900-08-29 06:00:00</td>\n",
       "      <td>1900239N15318</td>\n",
       "      <td>1900.0</td>\n",
       "      <td>NA</td>\n",
       "      <td>UNNAMED</td>\n",
       "      <td>TS</td>\n",
       "      <td>16.4</td>\n",
       "      <td>-52.4</td>\n",
       "      <td>35.0</td>\n",
       "      <td>0.0</td>\n",
       "    </tr>\n",
       "  </tbody>\n",
       "</table>\n",
       "</div>"
      ],
      "text/plain": [
       "                  date             id    year basin     name type   lat   lon  \\\n",
       "12 1900-08-27 00:00:00  1900239N15318  1900.0    NA  UNNAMED   TS  15.0 -42.1   \n",
       "13 1900-08-27 06:00:00  1900239N15318  1900.0    NA  UNNAMED   TS  15.2 -43.4   \n",
       "14 1900-08-27 12:00:00  1900239N15318  1900.0    NA  UNNAMED   TS  15.3 -44.7   \n",
       "15 1900-08-27 18:00:00  1900239N15318  1900.0    NA  UNNAMED   TS  15.4 -45.6   \n",
       "16 1900-08-28 00:00:00  1900239N15318  1900.0    NA  UNNAMED   TS  15.6 -46.6   \n",
       "17 1900-08-28 06:00:00  1900239N15318  1900.0    NA  UNNAMED   TS  15.8 -47.9   \n",
       "18 1900-08-28 12:00:00  1900239N15318  1900.0    NA  UNNAMED   TS  16.0 -49.1   \n",
       "19 1900-08-28 18:00:00  1900239N15318  1900.0    NA  UNNAMED   TS  16.1 -50.3   \n",
       "20 1900-08-29 00:00:00  1900239N15318  1900.0    NA  UNNAMED   TS  16.3 -51.4   \n",
       "21 1900-08-29 06:00:00  1900239N15318  1900.0    NA  UNNAMED   TS  16.4 -52.4   \n",
       "\n",
       "    wind  pres  \n",
       "12  35.0   0.0  \n",
       "13  35.0   0.0  \n",
       "14  35.0   0.0  \n",
       "15  35.0   0.0  \n",
       "16  35.0   0.0  \n",
       "17  35.0   0.0  \n",
       "18  35.0   0.0  \n",
       "19  35.0   0.0  \n",
       "20  35.0   0.0  \n",
       "21  35.0   0.0  "
      ]
     },
     "execution_count": 17,
     "metadata": {},
     "output_type": "execute_result"
    }
   ],
   "source": [
    "stormsNA.head(10)"
   ]
  },
  {
   "cell_type": "markdown",
   "metadata": {},
   "source": [
    "#### Some stats on September hurricanes..."
   ]
  },
  {
   "cell_type": "code",
   "execution_count": 18,
   "metadata": {},
   "outputs": [
    {
     "data": {
      "text/plain": [
       "<matplotlib.axes._subplots.AxesSubplot at 0x7f7afe720a58>"
      ]
     },
     "execution_count": 18,
     "metadata": {},
     "output_type": "execute_result"
    },
    {
     "data": {
      "image/png": "[encoded data removed]",
      "text/plain": [
       "<Figure size 432x288 with 1 Axes>"
      ]
     },
     "metadata": {},
     "output_type": "display_data"
    }
   ],
   "source": [
    "stormsNA.id.groupby(stormsNA.year).nunique().plot()"
   ]
  },
  {
   "cell_type": "markdown",
   "metadata": {},
   "source": [
    "Highest wind reported?"
   ]
  },
  {
   "cell_type": "code",
   "execution_count": 19,
   "metadata": {},
   "outputs": [
    {
     "data": {
      "text/html": [
       "<div>\n",
       "<style scoped>\n",
       "    .dataframe tbody tr th:only-of-type {\n",
       "        vertical-align: middle;\n",
       "    }\n",
       "\n",
       "    .dataframe tbody tr th {\n",
       "        vertical-align: top;\n",
       "    }\n",
       "\n",
       "    .dataframe thead th {\n",
       "        text-align: right;\n",
       "    }\n",
       "</style>\n",
       "<table border=\"1\" class=\"dataframe\">\n",
       "  <thead>\n",
       "    <tr style=\"text-align: right;\">\n",
       "      <th></th>\n",
       "      <th>date</th>\n",
       "      <th>id</th>\n",
       "      <th>year</th>\n",
       "      <th>basin</th>\n",
       "      <th>name</th>\n",
       "      <th>type</th>\n",
       "      <th>lat</th>\n",
       "      <th>lon</th>\n",
       "      <th>wind</th>\n",
       "      <th>pres</th>\n",
       "    </tr>\n",
       "  </thead>\n",
       "  <tbody>\n",
       "    <tr>\n",
       "      <th>82824</th>\n",
       "      <td>1980-08-07 18:00:00</td>\n",
       "      <td>1980214N11330</td>\n",
       "      <td>1980.0</td>\n",
       "      <td>NA</td>\n",
       "      <td>ALLEN</td>\n",
       "      <td>TS</td>\n",
       "      <td>21.8</td>\n",
       "      <td>-86.4</td>\n",
       "      <td>165.0</td>\n",
       "      <td>899.0</td>\n",
       "    </tr>\n",
       "  </tbody>\n",
       "</table>\n",
       "</div>"
      ],
      "text/plain": [
       "                     date             id    year basin   name type   lat  \\\n",
       "82824 1980-08-07 18:00:00  1980214N11330  1980.0    NA  ALLEN   TS  21.8   \n",
       "\n",
       "        lon   wind   pres  \n",
       "82824 -86.4  165.0  899.0  "
      ]
     },
     "execution_count": 19,
     "metadata": {},
     "output_type": "execute_result"
    }
   ],
   "source": [
    "stormsNA.loc[stormsNA.wind == stormsNA.wind.max()]"
   ]
  },
  {
   "cell_type": "markdown",
   "metadata": {},
   "source": [
    "Highest wind per year?"
   ]
  },
  {
   "cell_type": "code",
   "execution_count": 20,
   "metadata": {},
   "outputs": [
    {
     "data": {
      "text/plain": [
       "<matplotlib.axes._subplots.AxesSubplot at 0x7f7afe70cef0>"
      ]
     },
     "execution_count": 20,
     "metadata": {},
     "output_type": "execute_result"
    },
    {
     "data": {
      "image/png": "[encoded data removed]",
      "text/plain": [
       "<Figure size 432x288 with 1 Axes>"
      ]
     },
     "metadata": {},
     "output_type": "display_data"
    }
   ],
   "source": [
    "stormsNA.groupby(stormsNA.year).wind.max().plot()"
   ]
  },
  {
   "cell_type": "markdown",
   "metadata": {},
   "source": [
    "Hell, let's just calculate ACE. ACE = 10^-4 * sum(v^2). These numbers will be a little different than other sources that use HURDAT."
   ]
  },
  {
   "cell_type": "code",
   "execution_count": 26,
   "metadata": {},
   "outputs": [
    {
     "data": {
      "text/plain": [
       "year\n",
       "1900.0     86.5500\n",
       "1901.0    104.0050\n",
       "1902.0     34.3525\n",
       "1903.0    104.7150\n",
       "1904.0     32.1000\n",
       "1905.0     29.6100\n",
       "1906.0    164.8825\n",
       "1907.0     13.3300\n",
       "1908.0     97.1950\n",
       "1909.0    100.5425\n",
       "1910.0     66.8425\n",
       "1911.0     37.2725\n",
       "1912.0     59.4400\n",
       "1913.0     36.9300\n",
       "1914.0      2.9525\n",
       "1915.0    131.3750\n",
       "1916.0    149.4300\n",
       "1917.0     62.6000\n",
       "1918.0     40.2050\n",
       "1919.0     56.3225\n",
       "1920.0     32.5600\n",
       "1921.0     89.8275\n",
       "1922.0     57.9050\n",
       "1923.0     51.2875\n",
       "1924.0    103.2775\n",
       "1925.0      8.0700\n",
       "1926.0    234.5375\n",
       "1927.0     58.1600\n",
       "1928.0     84.9350\n",
       "1929.0     49.5975\n",
       "            ...   \n",
       "1987.0     47.0825\n",
       "1988.0    117.1799\n",
       "1989.0    142.4075\n",
       "1990.0    100.6275\n",
       "1991.0     36.4275\n",
       "1992.0     77.5375\n",
       "1993.0     44.7175\n",
       "1994.0     35.4925\n",
       "1995.0    237.0875\n",
       "1996.0    176.7925\n",
       "1997.0     42.6050\n",
       "1998.0    189.2575\n",
       "1999.0    182.9700\n",
       "2000.0    120.4650\n",
       "2001.0    113.6300\n",
       "2002.0     72.2825\n",
       "2003.0    183.0575\n",
       "2004.0    233.2750\n",
       "2005.0    262.9475\n",
       "2006.0     81.8950\n",
       "2007.0     76.9100\n",
       "2008.0    149.6725\n",
       "2009.0     55.5825\n",
       "2010.0    171.4375\n",
       "2011.0    129.0575\n",
       "2012.0    136.5725\n",
       "2013.0     36.2875\n",
       "2014.0     69.2225\n",
       "2015.0     66.8850\n",
       "2016.0    146.2625\n",
       "Name: wind, Length: 117, dtype: float64"
      ]
     },
     "execution_count": 26,
     "metadata": {},
     "output_type": "execute_result"
    }
   ],
   "source": [
    "stormsNA.wind.apply(np.square).groupby(stormsNA.year).sum()/10000"
   ]
  },
  {
   "cell_type": "code",
   "execution_count": null,
   "metadata": {},
   "outputs": [],
   "source": []
  },
  {
   "cell_type": "code",
   "execution_count": null,
   "metadata": {},
   "outputs": [],
   "source": []
  }
 ],
 "metadata": {
  "kernelspec": {
   "display_name": "Python 3",
   "language": "python",
   "name": "python3"
  },
  "language_info": {
   "codemirror_mode": {
    "name": "ipython",
    "version": 3
   },
   "file_extension": ".py",
   "mimetype": "text/x-python",
   "name": "python",
   "nbconvert_exporter": "python",
   "pygments_lexer": "ipython3",
   "version": "3.6.5"
  }
 },
 "nbformat": 4,
 "nbformat_minor": 2
}
